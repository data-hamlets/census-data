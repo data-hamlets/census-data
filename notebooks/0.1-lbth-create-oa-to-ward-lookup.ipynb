{
 "cells": [
  {
   "attachments": {},
   "cell_type": "markdown",
   "metadata": {
    "id": "fXtCLoZKqlc_"
   },
   "source": [
    "create oa to ward wards lookup\n",
    "--\n",
    "...using population weighted centroid"
   ]
  },
  {
   "cell_type": "code",
   "execution_count": 28,
   "metadata": {},
   "outputs": [],
   "source": [
    "# get the spatial dataset variables from the first notebook: \n",
    "# wards, oa, lsoa, msoa, lbth_oa21_lsoa21_msoa21_lad21, oa_ward_lookup, oa_centroids\n",
    "%run \"./0.0-lbth-spatial-datasets.ipynb\""
   ]
  },
  {
   "cell_type": "code",
   "execution_count": 29,
   "metadata": {},
   "outputs": [
    {
     "data": {
      "text/html": [
       "<div>\n",
       "<style scoped>\n",
       "    .dataframe tbody tr th:only-of-type {\n",
       "        vertical-align: middle;\n",
       "    }\n",
       "\n",
       "    .dataframe tbody tr th {\n",
       "        vertical-align: top;\n",
       "    }\n",
       "\n",
       "    .dataframe thead th {\n",
       "        text-align: right;\n",
       "    }\n",
       "</style>\n",
       "<table border=\"1\" class=\"dataframe\">\n",
       "  <thead>\n",
       "    <tr style=\"text-align: right;\">\n",
       "      <th></th>\n",
       "      <th>oa21cd</th>\n",
       "      <th>ward_name</th>\n",
       "    </tr>\n",
       "  </thead>\n",
       "  <tbody>\n",
       "    <tr>\n",
       "      <th>0</th>\n",
       "      <td>E00021642</td>\n",
       "      <td>Shadwell</td>\n",
       "    </tr>\n",
       "    <tr>\n",
       "      <th>1</th>\n",
       "      <td>E00021147</td>\n",
       "      <td>Bethnal Green East</td>\n",
       "    </tr>\n",
       "    <tr>\n",
       "      <th>2</th>\n",
       "      <td>E00167131</td>\n",
       "      <td>Canary Wharf</td>\n",
       "    </tr>\n",
       "    <tr>\n",
       "      <th>3</th>\n",
       "      <td>E00021156</td>\n",
       "      <td>Bethnal Green West</td>\n",
       "    </tr>\n",
       "    <tr>\n",
       "      <th>4</th>\n",
       "      <td>E00021591</td>\n",
       "      <td>Stepney Green</td>\n",
       "    </tr>\n",
       "  </tbody>\n",
       "</table>\n",
       "</div>"
      ],
      "text/plain": [
       "      oa21cd           ward_name\n",
       "0  E00021642            Shadwell\n",
       "1  E00021147  Bethnal Green East\n",
       "2  E00167131        Canary Wharf\n",
       "3  E00021156  Bethnal Green West\n",
       "4  E00021591       Stepney Green"
      ]
     },
     "execution_count": 29,
     "metadata": {},
     "output_type": "execute_result"
    }
   ],
   "source": [
    "# use geopandas spatial join to link oa centroids to wards \n",
    "df = oa_centroids.sjoin(wards, how='left').drop(columns=['index_right', 'geometry'])\n",
    "df.rename(columns = {'NAME':'ward_name'}, inplace=True)\n",
    "df.to_csv('../data/external/lbth_oa21_ward_lookup.csv', index=False)\n",
    "df.head()"
   ]
  },
  {
   "cell_type": "code",
   "execution_count": null,
   "metadata": {
    "id": "NstcWLmYOtRH"
   },
   "outputs": [],
   "source": []
  }
 ],
 "metadata": {
  "kernelspec": {
   "display_name": "Python 3",
   "language": "python",
   "name": "python3"
  },
  "language_info": {
   "name": "python",
   "version": "3.10.5 (tags/v3.10.5:f377153, Jun  6 2022, 16:14:13) [MSC v.1929 64 bit (AMD64)]"
  },
  "orig_nbformat": 4,
  "vscode": {
   "interpreter": {
    "hash": "d9649a28e514e5b96523b8d9bb8d52d30ed2779ce395a9a3a31f1ef68916389b"
   }
  }
 },
 "nbformat": 4,
 "nbformat_minor": 2
}
