{
 "cells": [
  {
   "cell_type": "markdown",
   "metadata": {},
   "source": [
    "# census-2021"
   ]
  },
  {
   "cell_type": "code",
   "execution_count": 21,
   "metadata": {},
   "outputs": [],
   "source": [
    "# PACKAGES\n",
    "import geopandas as gpd\n",
    "import pandas as pd\n",
    "from janitor import clean_names\n",
    "import altair as alt\n",
    "import requests"
   ]
  },
  {
   "cell_type": "code",
   "execution_count": 17,
   "metadata": {},
   "outputs": [],
   "source": [
    "# DATA\n",
    "url = 'https://www.ons.gov.uk/file?uri=/peoplepopulationandcommunity/populationandmigration/populationestimates/datasets/populationandhouseholdestimatesenglandandwalescensus2021/census2021/census2021firstresultsenglandwales1.xlsx'\n",
    "filename = '../data/external/census2021firstresultsenglandwales1.xlsx'"
   ]
  },
  {
   "cell_type": "code",
   "execution_count": null,
   "metadata": {},
   "outputs": [],
   "source": [
    "# FETCH\n",
    "r = requests.get(url)\n",
    "open(filename, 'wb').write(r.content)\n",
    "df = pd.read_excel(filename)"
   ]
  },
  {
   "cell_type": "code",
   "execution_count": 27,
   "metadata": {},
   "outputs": [],
   "source": [
    "# P01 Census 2021: Usual resident population by sex, local authorities in England and Wales\n",
    "P01 = pd.read_excel(filename,\n",
    "sheet_name=\"P01\", header=6)"
   ]
  },
  {
   "cell_type": "code",
   "execution_count": 20,
   "metadata": {},
   "outputs": [
    {
     "data": {
      "text/html": [
       "<div>\n",
       "<style scoped>\n",
       "    .dataframe tbody tr th:only-of-type {\n",
       "        vertical-align: middle;\n",
       "    }\n",
       "\n",
       "    .dataframe tbody tr th {\n",
       "        vertical-align: top;\n",
       "    }\n",
       "\n",
       "    .dataframe thead th {\n",
       "        text-align: right;\n",
       "    }\n",
       "</style>\n",
       "<table border=\"1\" class=\"dataframe\">\n",
       "  <thead>\n",
       "    <tr style=\"text-align: right;\">\n",
       "      <th></th>\n",
       "      <th>Area code [note 2]</th>\n",
       "      <th>Area name</th>\n",
       "      <th>All persons</th>\n",
       "      <th>Females</th>\n",
       "      <th>Males</th>\n",
       "    </tr>\n",
       "  </thead>\n",
       "  <tbody>\n",
       "    <tr>\n",
       "      <th>1</th>\n",
       "      <td>E92000001</td>\n",
       "      <td>England</td>\n",
       "      <td>56489800</td>\n",
       "      <td>28833500</td>\n",
       "      <td>27656300</td>\n",
       "    </tr>\n",
       "    <tr>\n",
       "      <th>211</th>\n",
       "      <td>E12000007</td>\n",
       "      <td>London</td>\n",
       "      <td>8799800</td>\n",
       "      <td>4531500</td>\n",
       "      <td>4268300</td>\n",
       "    </tr>\n",
       "    <tr>\n",
       "      <th>224</th>\n",
       "      <td>E09000030</td>\n",
       "      <td>Tower Hamlets</td>\n",
       "      <td>310300</td>\n",
       "      <td>154500</td>\n",
       "      <td>155800</td>\n",
       "    </tr>\n",
       "  </tbody>\n",
       "</table>\n",
       "</div>"
      ],
      "text/plain": [
       "    Area code [note 2]      Area name  All persons   Females     Males\n",
       "1            E92000001        England     56489800  28833500  27656300\n",
       "211          E12000007         London      8799800   4531500   4268300\n",
       "224          E09000030  Tower Hamlets       310300    154500    155800"
      ]
     },
     "execution_count": 20,
     "metadata": {},
     "output_type": "execute_result"
    }
   ],
   "source": [
    "P01[P01['Area name'].isin(['Tower Hamlets', 'England', 'London'])]"
   ]
  },
  {
   "cell_type": "code",
   "execution_count": 16,
   "metadata": {},
   "outputs": [],
   "source": [
    "# P02 Census 2021: Usual resident population by five-year age group, local authorities in England and Wales\n",
    "P02 = pd.read_excel(filename,\n",
    "sheet_name=\"P02\", header=7)"
   ]
  },
  {
   "cell_type": "code",
   "execution_count": 17,
   "metadata": {},
   "outputs": [
    {
     "data": {
      "text/html": [
       "<div>\n",
       "<style scoped>\n",
       "    .dataframe tbody tr th:only-of-type {\n",
       "        vertical-align: middle;\n",
       "    }\n",
       "\n",
       "    .dataframe tbody tr th {\n",
       "        vertical-align: top;\n",
       "    }\n",
       "\n",
       "    .dataframe thead th {\n",
       "        text-align: right;\n",
       "    }\n",
       "</style>\n",
       "<table border=\"1\" class=\"dataframe\">\n",
       "  <thead>\n",
       "    <tr style=\"text-align: right;\">\n",
       "      <th></th>\n",
       "      <th>Area code [note 2]</th>\n",
       "      <th>Area name</th>\n",
       "      <th>All persons</th>\n",
       "      <th>Aged 4 years and under\\n[note 12]</th>\n",
       "      <th>Aged 5 to 9 years\\n[note 12]</th>\n",
       "      <th>Aged 10 to 14 years\\n[note 12]</th>\n",
       "      <th>Aged 15 to 19 years\\n[note 12]</th>\n",
       "      <th>Aged 20 to 24 years\\n[note 12]</th>\n",
       "      <th>Aged 25 to 29 years\\n[note 12]</th>\n",
       "      <th>Aged 30 to 34 years\\n[note 12]</th>\n",
       "      <th>...</th>\n",
       "      <th>Aged 45 to 49 years\\n[note 12]</th>\n",
       "      <th>Aged 50 to 54 years\\n[note 12]</th>\n",
       "      <th>Aged 55 to 59 years\\n[note 12]</th>\n",
       "      <th>Aged 60 to 64 years\\n[note 12]</th>\n",
       "      <th>Aged 65 to 69 years\\n[note 12]</th>\n",
       "      <th>Aged 70 to 74 years\\n[note 12]</th>\n",
       "      <th>Aged 75 to 79 years\\n[note 12]</th>\n",
       "      <th>Aged 80 to 84 years\\n[note 12]</th>\n",
       "      <th>Aged 85 to 89 years\\n[note 12]</th>\n",
       "      <th>Aged 90 years and over\\n[note 12]</th>\n",
       "    </tr>\n",
       "  </thead>\n",
       "  <tbody>\n",
       "    <tr>\n",
       "      <th>1</th>\n",
       "      <td>E92000001</td>\n",
       "      <td>England</td>\n",
       "      <td>56489800</td>\n",
       "      <td>3077000</td>\n",
       "      <td>3348600</td>\n",
       "      <td>3413100</td>\n",
       "      <td>3218900</td>\n",
       "      <td>3414400</td>\n",
       "      <td>3715400</td>\n",
       "      <td>3952600</td>\n",
       "      <td>...</td>\n",
       "      <td>3602600</td>\n",
       "      <td>3907700</td>\n",
       "      <td>3806300</td>\n",
       "      <td>3256100</td>\n",
       "      <td>2767500</td>\n",
       "      <td>2796600</td>\n",
       "      <td>2038800</td>\n",
       "      <td>1427900</td>\n",
       "      <td>872200</td>\n",
       "      <td>498200</td>\n",
       "    </tr>\n",
       "    <tr>\n",
       "      <th>211</th>\n",
       "      <td>E12000007</td>\n",
       "      <td>London</td>\n",
       "      <td>8799800</td>\n",
       "      <td>529000</td>\n",
       "      <td>531500</td>\n",
       "      <td>535400</td>\n",
       "      <td>489400</td>\n",
       "      <td>589200</td>\n",
       "      <td>786600</td>\n",
       "      <td>808300</td>\n",
       "      <td>...</td>\n",
       "      <td>594000</td>\n",
       "      <td>573800</td>\n",
       "      <td>511600</td>\n",
       "      <td>404600</td>\n",
       "      <td>306400</td>\n",
       "      <td>269100</td>\n",
       "      <td>189700</td>\n",
       "      <td>141000</td>\n",
       "      <td>86800</td>\n",
       "      <td>50400</td>\n",
       "    </tr>\n",
       "    <tr>\n",
       "      <th>224</th>\n",
       "      <td>E09000030</td>\n",
       "      <td>Tower Hamlets</td>\n",
       "      <td>310300</td>\n",
       "      <td>19100</td>\n",
       "      <td>17700</td>\n",
       "      <td>17400</td>\n",
       "      <td>18400</td>\n",
       "      <td>32000</td>\n",
       "      <td>44500</td>\n",
       "      <td>40700</td>\n",
       "      <td>...</td>\n",
       "      <td>17500</td>\n",
       "      <td>13900</td>\n",
       "      <td>10800</td>\n",
       "      <td>8500</td>\n",
       "      <td>6000</td>\n",
       "      <td>4300</td>\n",
       "      <td>2800</td>\n",
       "      <td>2200</td>\n",
       "      <td>1300</td>\n",
       "      <td>700</td>\n",
       "    </tr>\n",
       "  </tbody>\n",
       "</table>\n",
       "<p>3 rows × 22 columns</p>\n",
       "</div>"
      ],
      "text/plain": [
       "    Area code [note 2]      Area name  All persons  \\\n",
       "1            E92000001        England     56489800   \n",
       "211          E12000007         London      8799800   \n",
       "224          E09000030  Tower Hamlets       310300   \n",
       "\n",
       "     Aged 4 years and under\\n[note 12]  Aged 5 to 9 years\\n[note 12]  \\\n",
       "1                              3077000                       3348600   \n",
       "211                             529000                        531500   \n",
       "224                              19100                         17700   \n",
       "\n",
       "     Aged 10 to 14 years\\n[note 12]  Aged 15 to 19 years\\n[note 12]  \\\n",
       "1                           3413100                         3218900   \n",
       "211                          535400                          489400   \n",
       "224                           17400                           18400   \n",
       "\n",
       "     Aged 20 to 24 years\\n[note 12]  Aged 25 to 29 years\\n[note 12]  \\\n",
       "1                           3414400                         3715400   \n",
       "211                          589200                          786600   \n",
       "224                           32000                           44500   \n",
       "\n",
       "     Aged 30 to 34 years\\n[note 12]  ...  Aged 45 to 49 years\\n[note 12]  \\\n",
       "1                           3952600  ...                         3602600   \n",
       "211                          808300  ...                          594000   \n",
       "224                           40700  ...                           17500   \n",
       "\n",
       "     Aged 50 to 54 years\\n[note 12]  Aged 55 to 59 years\\n[note 12]  \\\n",
       "1                           3907700                         3806300   \n",
       "211                          573800                          511600   \n",
       "224                           13900                           10800   \n",
       "\n",
       "     Aged 60 to 64 years\\n[note 12]  Aged 65 to 69 years\\n[note 12]  \\\n",
       "1                           3256100                         2767500   \n",
       "211                          404600                          306400   \n",
       "224                            8500                            6000   \n",
       "\n",
       "     Aged 70 to 74 years\\n[note 12]  Aged 75 to 79 years\\n[note 12]  \\\n",
       "1                           2796600                         2038800   \n",
       "211                          269100                          189700   \n",
       "224                            4300                            2800   \n",
       "\n",
       "     Aged 80 to 84 years\\n[note 12]  Aged 85 to 89 years\\n[note 12]  \\\n",
       "1                           1427900                          872200   \n",
       "211                          141000                           86800   \n",
       "224                            2200                            1300   \n",
       "\n",
       "     Aged 90 years and over\\n[note 12]  \n",
       "1                               498200  \n",
       "211                              50400  \n",
       "224                                700  \n",
       "\n",
       "[3 rows x 22 columns]"
      ]
     },
     "execution_count": 17,
     "metadata": {},
     "output_type": "execute_result"
    }
   ],
   "source": [
    "P02[P02['Area name'].isin(['Tower Hamlets', 'England', 'London'])]"
   ]
  },
  {
   "cell_type": "code",
   "execution_count": 18,
   "metadata": {},
   "outputs": [],
   "source": [
    "# P03 Census 2021: Usual resident population by sex and five-year age group, local authorities in England and Wales\n",
    "P03 = pd.read_excel(filename,\n",
    "sheet_name=\"P03\", header=7)"
   ]
  },
  {
   "cell_type": "code",
   "execution_count": 19,
   "metadata": {},
   "outputs": [],
   "source": [
    "def reshape_gender_data(df):\n",
    "    df.reset_index(drop=True, inplace=True)\n",
    "    df = df.rename(columns=lambda x:x.replace('note 12',''))\n",
    "    df = df.clean_names(remove_special=True)\n",
    "    df = df.rename(columns=lambda x:x.replace('females_aged_',''))\n",
    "    df = df.rename(columns=lambda x:x.replace('males_aged_',''))\n",
    "    df = df.rename(columns=lambda x:x.replace('_years',''))\n",
    "    df = df.rename(columns=lambda x:x.replace('_to_','-'))\n",
    "    df = df.rename(columns=lambda x:x.replace('4_and_under','00-04'))\n",
    "    df = df.rename(columns=lambda x:x.replace('_and_over','+'))\n",
    "    df = df.rename(columns=lambda x:x.replace('5-9','05-09'))\n",
    "    df = df.transpose()\n",
    "    df.reset_index(inplace=True)\n",
    "    df.columns = ['group','england and wales', 'london', 'Tower Hamlets']\n",
    "    # df = df.iloc[::-1]\n",
    "    return df"
   ]
  },
  {
   "cell_type": "code",
   "execution_count": 20,
   "metadata": {},
   "outputs": [],
   "source": [
    "P03_females = reshape_gender_data(P03[P03['Area name'].isin(['Tower Hamlets', 'England', 'London'])].filter(regex=r\"Females.*\"))\n",
    "P03_males = reshape_gender_data(P03[P03['Area name'].isin(['Tower Hamlets', 'England', 'London'])].filter(regex=r\"Males.*\"))"
   ]
  },
  {
   "cell_type": "code",
   "execution_count": 21,
   "metadata": {},
   "outputs": [
    {
     "data": {
      "text/plain": [
       "[[   group  england and wales  london  Tower Hamlets\n",
       "  0  00-04            1501600  259300           9300\n",
       "  1  05-09            1634400  260100           8600\n",
       "  2  10-14            1664100  261700           8600\n",
       "  3  15-19            1568100  240300           9300\n",
       "  4  20-24            1701500  304400          16900,\n",
       "     group  england and wales  london  Tower Hamlets\n",
       "  0  00-04            1575400  269700           9800\n",
       "  1  05-09            1714200  271400           9000\n",
       "  2  10-14            1749000  273600           8800\n",
       "  3  15-19            1650800  249100           9100\n",
       "  4  20-24            1712900  284800          15100]]"
      ]
     },
     "execution_count": 21,
     "metadata": {},
     "output_type": "execute_result"
    }
   ],
   "source": [
    "[[P03_females.head(), P03_males.head()]]"
   ]
  },
  {
   "cell_type": "code",
   "execution_count": 26,
   "metadata": {},
   "outputs": [],
   "source": [
    "def population_pyramid(females, males):\n",
    "    # slider = alt.binding_range(min=1850, max=2000, step=10)\n",
    "    # select_year = alt.selection_single(name='year', fields=['year'],\n",
    "                                    #    bind=slider, init={'year': 2000})\n",
    "\n",
    "    females = alt.Chart(females).properties(\n",
    "        width=250\n",
    "    )\n",
    "    males = alt.Chart(males).properties(\n",
    "        width=250\n",
    "    )\n",
    "\n",
    "    # color_scale = alt.Scale(domain=['Male', 'Female'],\n",
    "    #                         range=['#1f77b4', '#e377c2'])\n",
    "\n",
    "    left = females.encode(\n",
    "        y=alt.Y('group:O', axis=None),\n",
    "        x=alt.X('Tower Hamlets:Q',\n",
    "                title='2021 population',\n",
    "                sort=alt.SortOrder('descending')),\n",
    "        # color=alt.Color('gender:N', scale=color_scale, legend=None)\n",
    "    ).mark_bar().properties(title='Tower Hamlets females')\n",
    "\n",
    "    middle = females.encode(\n",
    "        y=alt.Y('group:O', axis=None),\n",
    "        text=alt.Text('group:O'),\n",
    "    ).mark_text().properties(width=20)\n",
    "\n",
    "    right = males.encode(\n",
    "        y=alt.Y('group:O', axis=None),\n",
    "        x=alt.X('Tower Hamlets:Q',\n",
    "                title='2021 population'),\n",
    "        # color=alt.Color('gender:N', scale=color_scale, legend=None)\n",
    "    ).mark_bar().properties(title='Tower Hamlets males')\n",
    "\n",
    "    return alt.concat(left, middle, right, spacing=5)\n"
   ]
  },
  {
   "cell_type": "code",
   "execution_count": 27,
   "metadata": {},
   "outputs": [
    {
     "data": {
      "text/html": [
       "\n",
       "<div id=\"altair-viz-8bdb85d8afbf4cd8b67873887f200d9c\"></div>\n",
       "<script type=\"text/javascript\">\n",
       "  var VEGA_DEBUG = (typeof VEGA_DEBUG == \"undefined\") ? {} : VEGA_DEBUG;\n",
       "  (function(spec, embedOpt){\n",
       "    let outputDiv = document.currentScript.previousElementSibling;\n",
       "    if (outputDiv.id !== \"altair-viz-8bdb85d8afbf4cd8b67873887f200d9c\") {\n",
       "      outputDiv = document.getElementById(\"altair-viz-8bdb85d8afbf4cd8b67873887f200d9c\");\n",
       "    }\n",
       "    const paths = {\n",
       "      \"vega\": \"https://cdn.jsdelivr.net/npm//vega@5?noext\",\n",
       "      \"vega-lib\": \"https://cdn.jsdelivr.net/npm//vega-lib?noext\",\n",
       "      \"vega-lite\": \"https://cdn.jsdelivr.net/npm//vega-lite@4.17.0?noext\",\n",
       "      \"vega-embed\": \"https://cdn.jsdelivr.net/npm//vega-embed@6?noext\",\n",
       "    };\n",
       "\n",
       "    function maybeLoadScript(lib, version) {\n",
       "      var key = `${lib.replace(\"-\", \"\")}_version`;\n",
       "      return (VEGA_DEBUG[key] == version) ?\n",
       "        Promise.resolve(paths[lib]) :\n",
       "        new Promise(function(resolve, reject) {\n",
       "          var s = document.createElement('script');\n",
       "          document.getElementsByTagName(\"head\")[0].appendChild(s);\n",
       "          s.async = true;\n",
       "          s.onload = () => {\n",
       "            VEGA_DEBUG[key] = version;\n",
       "            return resolve(paths[lib]);\n",
       "          };\n",
       "          s.onerror = () => reject(`Error loading script: ${paths[lib]}`);\n",
       "          s.src = paths[lib];\n",
       "        });\n",
       "    }\n",
       "\n",
       "    function showError(err) {\n",
       "      outputDiv.innerHTML = `<div class=\"error\" style=\"color:red;\">${err}</div>`;\n",
       "      throw err;\n",
       "    }\n",
       "\n",
       "    function displayChart(vegaEmbed) {\n",
       "      vegaEmbed(outputDiv, spec, embedOpt)\n",
       "        .catch(err => showError(`Javascript Error: ${err.message}<br>This usually means there's a typo in your chart specification. See the javascript console for the full traceback.`));\n",
       "    }\n",
       "\n",
       "    if(typeof define === \"function\" && define.amd) {\n",
       "      requirejs.config({paths});\n",
       "      require([\"vega-embed\"], displayChart, err => showError(`Error loading script: ${err.message}`));\n",
       "    } else {\n",
       "      maybeLoadScript(\"vega\", \"5\")\n",
       "        .then(() => maybeLoadScript(\"vega-lite\", \"4.17.0\"))\n",
       "        .then(() => maybeLoadScript(\"vega-embed\", \"6\"))\n",
       "        .catch(showError)\n",
       "        .then(() => displayChart(vegaEmbed));\n",
       "    }\n",
       "  })({\"config\": {\"view\": {\"continuousWidth\": 400, \"continuousHeight\": 300}}, \"concat\": [{\"data\": {\"name\": \"data-ee36c682e083034fa5bd83916c645396\"}, \"mark\": \"bar\", \"encoding\": {\"x\": {\"field\": \"Tower Hamlets\", \"sort\": \"descending\", \"title\": \"2021 population\", \"type\": \"quantitative\"}, \"y\": {\"axis\": null, \"field\": \"group\", \"type\": \"ordinal\"}}, \"title\": \"Tower Hamlets females\", \"width\": 250}, {\"data\": {\"name\": \"data-ee36c682e083034fa5bd83916c645396\"}, \"mark\": \"text\", \"encoding\": {\"text\": {\"field\": \"group\", \"type\": \"ordinal\"}, \"y\": {\"axis\": null, \"field\": \"group\", \"type\": \"ordinal\"}}, \"width\": 20}, {\"data\": {\"name\": \"data-ec9ac00581d09afbb91580a51e3f461e\"}, \"mark\": \"bar\", \"encoding\": {\"x\": {\"field\": \"Tower Hamlets\", \"title\": \"2021 population\", \"type\": \"quantitative\"}, \"y\": {\"axis\": null, \"field\": \"group\", \"type\": \"ordinal\"}}, \"title\": \"Tower Hamlets males\", \"width\": 250}], \"spacing\": 5, \"$schema\": \"https://vega.github.io/schema/vega-lite/v4.17.0.json\", \"datasets\": {\"data-ee36c682e083034fa5bd83916c645396\": [{\"group\": \"00-04\", \"england and wales\": 1501600, \"london\": 259300, \"Tower Hamlets\": 9300}, {\"group\": \"05-09\", \"england and wales\": 1634400, \"london\": 260100, \"Tower Hamlets\": 8600}, {\"group\": \"10-14\", \"england and wales\": 1664100, \"london\": 261700, \"Tower Hamlets\": 8600}, {\"group\": \"15-19\", \"england and wales\": 1568100, \"london\": 240300, \"Tower Hamlets\": 9300}, {\"group\": \"20-24\", \"england and wales\": 1701500, \"london\": 304400, \"Tower Hamlets\": 16900}, {\"group\": \"25-29\", \"england and wales\": 1897400, \"london\": 412200, \"Tower Hamlets\": 22600}, {\"group\": \"30-34\", \"england and wales\": 2044400, \"london\": 422400, \"Tower Hamlets\": 20300}, {\"group\": \"35-39\", \"england and wales\": 1953500, \"london\": 382700, \"Tower Hamlets\": 15000}, {\"group\": \"40-44\", \"england and wales\": 1826700, \"london\": 343200, \"Tower Hamlets\": 10900}, {\"group\": \"45-49\", \"england and wales\": 1825600, \"london\": 301200, \"Tower Hamlets\": 7900}, {\"group\": \"50-54\", \"england and wales\": 1984900, \"london\": 293800, \"Tower Hamlets\": 6200}, {\"group\": \"55-59\", \"england and wales\": 1936700, \"london\": 263900, \"Tower Hamlets\": 5100}, {\"group\": \"60-64\", \"england and wales\": 1654100, \"london\": 207700, \"Tower Hamlets\": 4000}, {\"group\": \"65-69\", \"england and wales\": 1425600, \"london\": 160600, \"Tower Hamlets\": 3200}, {\"group\": \"70-74\", \"england and wales\": 1464900, \"london\": 144600, \"Tower Hamlets\": 2400}, {\"group\": \"75-79\", \"england and wales\": 1091600, \"london\": 105700, \"Tower Hamlets\": 1600}, {\"group\": \"80-84\", \"england and wales\": 799300, \"london\": 81100, \"Tower Hamlets\": 1300}, {\"group\": \"85-89\", \"england and wales\": 520800, \"london\": 52400, \"Tower Hamlets\": 800}, {\"group\": \"90+\", \"england and wales\": 338500, \"london\": 34300, \"Tower Hamlets\": 500}], \"data-ec9ac00581d09afbb91580a51e3f461e\": [{\"group\": \"00-04\", \"england and wales\": 1575400, \"london\": 269700, \"Tower Hamlets\": 9800}, {\"group\": \"05-09\", \"england and wales\": 1714200, \"london\": 271400, \"Tower Hamlets\": 9000}, {\"group\": \"10-14\", \"england and wales\": 1749000, \"london\": 273600, \"Tower Hamlets\": 8800}, {\"group\": \"15-19\", \"england and wales\": 1650800, \"london\": 249100, \"Tower Hamlets\": 9100}, {\"group\": \"20-24\", \"england and wales\": 1712900, \"london\": 284800, \"Tower Hamlets\": 15100}, {\"group\": \"25-29\", \"england and wales\": 1818000, \"london\": 374300, \"Tower Hamlets\": 21800}, {\"group\": \"30-34\", \"england and wales\": 1908200, \"london\": 385900, \"Tower Hamlets\": 20400}, {\"group\": \"35-39\", \"england and wales\": 1841900, \"london\": 353000, \"Tower Hamlets\": 14800}, {\"group\": \"40-44\", \"england and wales\": 1753600, \"london\": 324200, \"Tower Hamlets\": 11700}, {\"group\": \"45-49\", \"england and wales\": 1777100, \"london\": 292800, \"Tower Hamlets\": 9600}, {\"group\": \"50-54\", \"england and wales\": 1922800, \"london\": 280000, \"Tower Hamlets\": 7700}, {\"group\": \"55-59\", \"england and wales\": 1869600, \"london\": 247700, \"Tower Hamlets\": 5700}, {\"group\": \"60-64\", \"england and wales\": 1602000, \"london\": 197000, \"Tower Hamlets\": 4500}, {\"group\": \"65-69\", \"england and wales\": 1341900, \"london\": 145800, \"Tower Hamlets\": 2900}, {\"group\": \"70-74\", \"england and wales\": 1331800, \"london\": 124500, \"Tower Hamlets\": 1900}, {\"group\": \"75-79\", \"england and wales\": 947200, \"london\": 84000, \"Tower Hamlets\": 1200}, {\"group\": \"80-84\", \"england and wales\": 628600, \"london\": 59900, \"Tower Hamlets\": 1000}, {\"group\": \"85-89\", \"england and wales\": 351400, \"london\": 34500, \"Tower Hamlets\": 500}, {\"group\": \"90+\", \"england and wales\": 159800, \"london\": 16100, \"Tower Hamlets\": 300}]}}, {\"mode\": \"vega-lite\"});\n",
       "</script>"
      ],
      "text/plain": [
       "alt.ConcatChart(...)"
      ]
     },
     "execution_count": 27,
     "metadata": {},
     "output_type": "execute_result"
    }
   ],
   "source": [
    "population_pyramid(P03_females, P03_males)"
   ]
  },
  {
   "cell_type": "code",
   "execution_count": 28,
   "metadata": {},
   "outputs": [],
   "source": [
    "# P04 Census 2021: Usual resident population density, local authorities in England and Wales\n",
    "P04 = pd.read_excel(filename,\n",
    "sheet_name=\"P04\", header=6)"
   ]
  },
  {
   "cell_type": "code",
   "execution_count": 29,
   "metadata": {},
   "outputs": [
    {
     "data": {
      "text/html": [
       "<div>\n",
       "<style scoped>\n",
       "    .dataframe tbody tr th:only-of-type {\n",
       "        vertical-align: middle;\n",
       "    }\n",
       "\n",
       "    .dataframe tbody tr th {\n",
       "        vertical-align: top;\n",
       "    }\n",
       "\n",
       "    .dataframe thead th {\n",
       "        text-align: right;\n",
       "    }\n",
       "</style>\n",
       "<table border=\"1\" class=\"dataframe\">\n",
       "  <thead>\n",
       "    <tr style=\"text-align: right;\">\n",
       "      <th></th>\n",
       "      <th>Area code [note 2]</th>\n",
       "      <th>Area name</th>\n",
       "      <th>Population density (number of usual residents per square kilometre) \\n[note 13]</th>\n",
       "    </tr>\n",
       "  </thead>\n",
       "  <tbody>\n",
       "    <tr>\n",
       "      <th>1</th>\n",
       "      <td>E92000001</td>\n",
       "      <td>England</td>\n",
       "      <td>434</td>\n",
       "    </tr>\n",
       "    <tr>\n",
       "      <th>211</th>\n",
       "      <td>E12000007</td>\n",
       "      <td>London</td>\n",
       "      <td>5598</td>\n",
       "    </tr>\n",
       "    <tr>\n",
       "      <th>224</th>\n",
       "      <td>E09000030</td>\n",
       "      <td>Tower Hamlets</td>\n",
       "      <td>15695</td>\n",
       "    </tr>\n",
       "  </tbody>\n",
       "</table>\n",
       "</div>"
      ],
      "text/plain": [
       "    Area code [note 2]      Area name  \\\n",
       "1            E92000001        England   \n",
       "211          E12000007         London   \n",
       "224          E09000030  Tower Hamlets   \n",
       "\n",
       "     Population density (number of usual residents per square kilometre) \\n[note 13]  \n",
       "1                                                  434                                \n",
       "211                                               5598                                \n",
       "224                                              15695                                "
      ]
     },
     "execution_count": 29,
     "metadata": {},
     "output_type": "execute_result"
    }
   ],
   "source": [
    "P04[P04['Area name'].isin(['Tower Hamlets', 'England', 'London'])]"
   ]
  },
  {
   "cell_type": "code",
   "execution_count": 31,
   "metadata": {},
   "outputs": [],
   "source": [
    "# H01 Census 2021: Number of households with at least one usual resident, local authorities in England and Wales\n",
    "H01 = pd.read_excel(filename,\n",
    "sheet_name=\"H01\", header=6)"
   ]
  },
  {
   "cell_type": "code",
   "execution_count": 32,
   "metadata": {},
   "outputs": [
    {
     "data": {
      "text/html": [
       "<div>\n",
       "<style scoped>\n",
       "    .dataframe tbody tr th:only-of-type {\n",
       "        vertical-align: middle;\n",
       "    }\n",
       "\n",
       "    .dataframe tbody tr th {\n",
       "        vertical-align: top;\n",
       "    }\n",
       "\n",
       "    .dataframe thead th {\n",
       "        text-align: right;\n",
       "    }\n",
       "</style>\n",
       "<table border=\"1\" class=\"dataframe\">\n",
       "  <thead>\n",
       "    <tr style=\"text-align: right;\">\n",
       "      <th></th>\n",
       "      <th>Area code [note 2]</th>\n",
       "      <th>Area name</th>\n",
       "      <th>Number of households with at least one usual resident</th>\n",
       "    </tr>\n",
       "  </thead>\n",
       "  <tbody>\n",
       "    <tr>\n",
       "      <th>1</th>\n",
       "      <td>E92000001</td>\n",
       "      <td>England</td>\n",
       "      <td>23435700</td>\n",
       "    </tr>\n",
       "    <tr>\n",
       "      <th>211</th>\n",
       "      <td>E12000007</td>\n",
       "      <td>London</td>\n",
       "      <td>3423800</td>\n",
       "    </tr>\n",
       "    <tr>\n",
       "      <th>224</th>\n",
       "      <td>E09000030</td>\n",
       "      <td>Tower Hamlets</td>\n",
       "      <td>120500</td>\n",
       "    </tr>\n",
       "  </tbody>\n",
       "</table>\n",
       "</div>"
      ],
      "text/plain": [
       "    Area code [note 2]      Area name  \\\n",
       "1            E92000001        England   \n",
       "211          E12000007         London   \n",
       "224          E09000030  Tower Hamlets   \n",
       "\n",
       "     Number of households with at least one usual resident   \n",
       "1                                             23435700       \n",
       "211                                            3423800       \n",
       "224                                             120500       "
      ]
     },
     "execution_count": 32,
     "metadata": {},
     "output_type": "execute_result"
    }
   ],
   "source": [
    "H01[H01['Area name'].isin(['Tower Hamlets', 'England', 'London'])]"
   ]
  },
  {
   "cell_type": "code",
   "execution_count": null,
   "metadata": {},
   "outputs": [],
   "source": []
  }
 ],
 "metadata": {
  "kernelspec": {
   "display_name": "Python 3.9.12 ('tower')",
   "language": "python",
   "name": "python3"
  },
  "language_info": {
   "codemirror_mode": {
    "name": "ipython",
    "version": 3
   },
   "file_extension": ".py",
   "mimetype": "text/x-python",
   "name": "python",
   "nbconvert_exporter": "python",
   "pygments_lexer": "ipython3",
   "version": "3.9.12"
  },
  "orig_nbformat": 4,
  "vscode": {
   "interpreter": {
    "hash": "5a079a6018205a38d53d66abc9440f93bd19d2719fc90ae8c9fd9bc304986dcd"
   }
  }
 },
 "nbformat": 4,
 "nbformat_minor": 2
}
