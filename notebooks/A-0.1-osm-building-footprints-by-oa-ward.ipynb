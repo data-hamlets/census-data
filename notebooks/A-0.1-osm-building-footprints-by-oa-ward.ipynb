{
 "cells": [
  {
   "attachments": {},
   "cell_type": "markdown",
   "metadata": {},
   "source": [
    "# osm building footprints by oa and ward"
   ]
  },
  {
   "cell_type": "code",
   "execution_count": null,
   "metadata": {},
   "outputs": [],
   "source": [
    "import pandas as pd\n",
    "import geopandas as gpd\n",
    "import networkx as nx\n",
    "import osmnx as ox\n",
    "import matplotlib.pyplot as plt\n",
    "%matplotlib inline\n",
    "ox.__version__"
   ]
  },
  {
   "cell_type": "markdown",
   "metadata": {},
   "source": [
    "using a building footprint mask\n",
    "--\n",
    "inspired by  booth maps where instead of colouring in a whole census geography, only the buildings within are coloured, giving a better impression of the situation on the ground"
   ]
  },
  {
   "cell_type": "code",
   "execution_count": null,
   "metadata": {},
   "outputs": [],
   "source": [
    "# join osm building features to statistical areas\n",
    "try:\n",
    "  osm_buildings = gpd.read_file('../data/external/osm_building_footprints.geojson')\n",
    "except Exception:\n",
    "  # get all building footprints in some neighborhood\n",
    "  place = \"London Borough of Tower Hamlets, London, UK\"\n",
    "  tags = {\"building\": True}\n",
    "  osm_buildings = ox.geometries_from_place(place, tags)\n",
    "  # extract 'way' features only from osm building layer (discard points and relations)\n",
    "  osm_buildings = osm_buildings[osm_buildings.index.map(lambda x: x[0].startswith('way'))]\n",
    "  osm_buildings.geometry.to_file('../data/external/osm_building_footprints.geojson', driver='GeoJSON')\n",
    "  "
   ]
  },
  {
   "cell_type": "code",
   "execution_count": null,
   "metadata": {},
   "outputs": [],
   "source": [
    "# spatial join buildings to oas\n",
    "bldgs_oa = osm_buildings.sjoin(oa21, how='left')"
   ]
  },
  {
   "cell_type": "code",
   "execution_count": null,
   "metadata": {},
   "outputs": [],
   "source": [
    "# merge buildings oas to wards via oa\n",
    "bldgs_ward = bldgs_oa.merge(oa_ward_lookup, left_on='OA21CD', right_on=\"OA21CD\", how='left')"
   ]
  }
 ],
 "metadata": {
  "kernelspec": {
   "display_name": "Python 3",
   "language": "python",
   "name": "python3"
  },
  "language_info": {
   "name": "python",
   "version": "3.10.5 (tags/v3.10.5:f377153, Jun  6 2022, 16:14:13) [MSC v.1929 64 bit (AMD64)]"
  },
  "orig_nbformat": 4,
  "vscode": {
   "interpreter": {
    "hash": "d9649a28e514e5b96523b8d9bb8d52d30ed2779ce395a9a3a31f1ef68916389b"
   }
  }
 },
 "nbformat": 4,
 "nbformat_minor": 2
}
