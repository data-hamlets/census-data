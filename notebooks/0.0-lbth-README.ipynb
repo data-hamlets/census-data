{
 "cells": [
  {
   "attachments": {},
   "cell_type": "markdown",
   "metadata": {},
   "source": [
    "this notebook collection works on the [data science cookiecutter](https://github.com/drivendata/cookiecutter-data-science) file structure:\n",
    "\n",
    "```\n",
    "├── data\n",
    "│   ├── external\n",
    "│   ├── interim \n",
    "│   ├── processed\n",
    "│   └── raw     \n",
    "├── notebooks   \n",
    "└── reports     \n",
    "```"
   ]
  }
 ],
 "metadata": {
  "kernelspec": {
   "display_name": "Python 3",
   "language": "python",
   "name": "python3"
  },
  "language_info": {
   "name": "python",
   "version": "3.10.5 (tags/v3.10.5:f377153, Jun  6 2022, 16:14:13) [MSC v.1929 64 bit (AMD64)]"
  },
  "orig_nbformat": 4,
  "vscode": {
   "interpreter": {
    "hash": "d9649a28e514e5b96523b8d9bb8d52d30ed2779ce395a9a3a31f1ef68916389b"
   }
  }
 },
 "nbformat": 4,
 "nbformat_minor": 2
}
