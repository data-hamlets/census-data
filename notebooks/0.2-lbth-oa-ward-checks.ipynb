{
 "cells": [
  {
   "attachments": {},
   "cell_type": "markdown",
   "metadata": {},
   "source": [
    "# oa to ward overlaps"
   ]
  },
  {
   "cell_type": "code",
   "execution_count": 1,
   "metadata": {
    "executionInfo": {
     "elapsed": 357,
     "status": "ok",
     "timestamp": 1635861645750,
     "user": {
      "displayName": "Martin Dittus",
      "photoUrl": "https://lh3.googleusercontent.com/a-/AOh14Gj0XOda1vtqTsuT-CVOqG6ifXQ16hPYaYYMHUIK=s64",
      "userId": "18211416593650873870"
     },
     "user_tz": 0
    },
    "id": "l8yyB7xbHI9S"
   },
   "outputs": [],
   "source": [
    "import os\n",
    "\n",
    "import pandas as pd\n",
    "import geopandas as gpd"
   ]
  },
  {
   "cell_type": "code",
   "execution_count": 7,
   "metadata": {},
   "outputs": [
    {
     "name": "stderr",
     "output_type": "stream",
     "text": [
      "C:\\Users\\joseph.leach\\AppData\\Local\\Temp\\ipykernel_16096\\2659887137.py:9: DtypeWarning: Columns (7) have mixed types. Specify dtype option on import or set low_memory=False.\n",
      "  df = pd.read_csv(\"https://www.arcgis.com/sharing/rest/content/items/792f7ab3a99d403ca02cc9ca1cf8af02/data\", encoding = 'latin')\n"
     ]
    }
   ],
   "source": [
    "%run \"./0.0-lbth-boundaries.ipynb\""
   ]
  },
  {
   "cell_type": "code",
   "execution_count": 8,
   "metadata": {},
   "outputs": [],
   "source": [
    "gdf = gpd.overlay(oa, wards, how='intersection')"
   ]
  },
  {
   "attachments": {},
   "cell_type": "markdown",
   "metadata": {},
   "source": [
    "## get intersecting oas/wards\n"
   ]
  },
  {
   "cell_type": "code",
   "execution_count": 9,
   "metadata": {},
   "outputs": [],
   "source": [
    "import folium\n"
   ]
  },
  {
   "cell_type": "code",
   "execution_count": 10,
   "metadata": {},
   "outputs": [],
   "source": [
    "# import matplotlib.pyplot as plt\n",
    "# fig, ax = plt.subplots(1, 1, figsize=(12, 9), dpi=150, facecolor=\"black\")\n",
    "# wards.plot(ax=ax, legend=True, edgecolor='red', facecolor='none').axis(\"off\")\n",
    "# oa[list(gdf.groupby('OA21CD').count().OBJECTID>1)].plot(ax=ax, color='#0000bb99', edgecolor='#ffffff99', linewidth=0.1)\n",
    "# oa[list(gdf.groupby('OA21CD').count().OBJECTID>1)].join(oa_centroids.set_index('oa21cd'), on='OA21CD', lsuffix='_poly').plot(ax=ax, markersize=0.1, color='magenta')"
   ]
  },
  {
   "cell_type": "code",
   "execution_count": 11,
   "metadata": {},
   "outputs": [],
   "source": [
    "f = wards.explore()\n"
   ]
  },
  {
   "cell_type": "code",
   "execution_count": null,
   "metadata": {},
   "outputs": [],
   "source": [
    "oas = oa.merge(oa_ward_lookup, left_on='OA21CD', right_on='OA21CD')\n"
   ]
  },
  {
   "cell_type": "code",
   "execution_count": null,
   "metadata": {},
   "outputs": [
    {
     "data": {
      "text/plain": [
       "<folium.features.GeoJson at 0x1f147bbbfa0>"
      ]
     },
     "metadata": {},
     "output_type": "display_data"
    }
   ],
   "source": [
    "folium.GeoJson(\n",
    "    oas[list(gdf.groupby('OA21CD').count().OBJECTID>1)].join(oa_centroids.set_index('oa21cd'), on='OA21CD', lsuffix='_poly').drop('geometry_poly',axis=1).to_json(),\n",
    "    marker=folium.CircleMarker(\n",
    "        radius=2,  # Radius in metres\n",
    "        weight=0,  # outline weight\n",
    "        fill_color=\"magenta\",\n",
    "        fill_opacity=1,\n",
    "    ),\n",
    "    name=\"centroids\",\n",
    ").add_to(f)"
   ]
  },
  {
   "cell_type": "code",
   "execution_count": null,
   "metadata": {},
   "outputs": [
    {
     "data": {
      "text/plain": [
       "<folium.features.GeoJson at 0x1f153f02e20>"
      ]
     },
     "metadata": {},
     "output_type": "display_data"
    }
   ],
   "source": [
    "def style_function(feature):\n",
    "    return {\"fillOpacity\": 0, \"weight\": 1, \"color\": \"black\"}\n",
    "\n",
    "\n",
    "folium.GeoJson(\n",
    "    oas[list(gdf.groupby(\"OA21CD\").count().OBJECTID > 1)].to_json(),\n",
    "    style_function=style_function,\n",
    "    name=\"oas\",\n",
    "    tooltip=folium.GeoJsonTooltip(\n",
    "        fields=[\"OA21CD\",'ward_name'],\n",
    "        style=(\n",
    "            \"background-color: white; color: #333333; font-family: arial; font-size: 12px; padding: 10px;\"\n",
    "        ),\n",
    "        sticky=True,\n",
    "    ),\n",
    ").add_to(f)\n"
   ]
  },
  {
   "cell_type": "code",
   "execution_count": null,
   "metadata": {},
   "outputs": [
    {
     "data": {
      "text/plain": [
       "<folium.map.LayerControl at 0x1f15422b1c0>"
      ]
     },
     "metadata": {},
     "output_type": "display_data"
    }
   ],
   "source": [
    "folium.LayerControl().add_to(f)"
   ]
  },
  {
   "cell_type": "code",
   "execution_count": null,
   "metadata": {},
   "outputs": [],
   "source": [
    "f.save('../reports/oa-ward-overlaps.html')"
   ]
  }
 ],
 "metadata": {
  "kernelspec": {
   "display_name": "census-data",
   "language": "python",
   "name": "python3"
  },
  "language_info": {
   "codemirror_mode": {
    "name": "ipython",
    "version": 3
   },
   "file_extension": ".py",
   "mimetype": "text/x-python",
   "name": "python",
   "nbconvert_exporter": "python",
   "pygments_lexer": "ipython3",
   "version": "3.9.12"
  },
  "orig_nbformat": 4,
  "vscode": {
   "interpreter": {
    "hash": "d0e995891e850d149046d385a65915c7aedf69222cc5550ee5fe828f204f0ddd"
   }
  }
 },
 "nbformat": 4,
 "nbformat_minor": 2
}
