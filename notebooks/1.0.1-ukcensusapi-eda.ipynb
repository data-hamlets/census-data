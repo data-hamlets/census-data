{
 "cells": [
  {
   "cell_type": "markdown",
   "metadata": {},
   "source": [
    "# explore the ukcensus api (nomis data)\n",
    "\n",
    "this notebook tries out a few things with the [ukcensus api](https://github.com/virgesmith/UKCensusAPI)\n",
    "\n",
    "note this package requires a `cache` directory to sit alongside the present working directory, this is used to store python snippets that get data from the nomis api, it also can store a NOMIS_API_KEY file containing your unique id from [nomis](https://www.nomisweb.co.uk/myaccount/webservice.asp) - the cache dir is ignored in git, so your id will not be shared on the internet!"
   ]
  },
  {
   "cell_type": "code",
   "execution_count": null,
   "metadata": {},
   "outputs": [],
   "source": [
    "import ukcensusapi.Nomisweb as CensusApi\n",
    "\n",
    "api = CensusApi.Nomisweb(\"cache\")\n",
    "table = \"KS201EW\"\n",
    "table_internal = \"NM_608_1\"\n",
    "query_params = {}\n",
    "query_params[\"date\"] = \"latest\"\n",
    "query_params[\"select\"] = \"GEOGRAPHY_CODE,CELL,OBS_VALUE\"\n",
    "query_params[\"RURAL_URBAN\"] = \"0\"\n",
    "query_params[\"CELL\"] = \"1...18\"\n",
    "query_params[\"MEASURES\"] = \"20100\"\n",
    "query_params[\"geography\"] = \"1249906691...1249906810,1249934531...1249934554\"\n",
    "df = api.get_data(table, query_params)\n",
    "\n",
    "df.pivot(index='GEOGRAPHY_CODE',columns='CELL',values='OBS_VALUE')"
   ]
  },
  {
   "cell_type": "code",
   "execution_count": null,
   "metadata": {},
   "outputs": [],
   "source": []
  }
 ],
 "metadata": {
  "kernelspec": {
   "display_name": "Python 3.9.12 ('tower')",
   "language": "python",
   "name": "python3"
  },
  "language_info": {
   "codemirror_mode": {
    "name": "ipython",
    "version": 3
   },
   "file_extension": ".py",
   "mimetype": "text/x-python",
   "name": "python",
   "nbconvert_exporter": "python",
   "pygments_lexer": "ipython3",
   "version": "3.9.12"
  },
  "orig_nbformat": 4,
  "vscode": {
   "interpreter": {
    "hash": "5a079a6018205a38d53d66abc9440f93bd19d2719fc90ae8c9fd9bc304986dcd"
   }
  }
 },
 "nbformat": 4,
 "nbformat_minor": 2
}
